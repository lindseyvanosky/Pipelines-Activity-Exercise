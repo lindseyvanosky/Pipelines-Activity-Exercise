{
  "nbformat": 4,
  "nbformat_minor": 0,
  "metadata": {
    "colab": {
      "provenance": [],
      "mount_file_id": "1e0rWR8JcXi9IDrsWdxSmkBJk95LOuGlL",
      "authorship_tag": "ABX9TyNM7cHIT6sNpJF27w2unD8G",
      "include_colab_link": true
    },
    "kernelspec": {
      "name": "python3",
      "display_name": "Python 3"
    },
    "language_info": {
      "name": "python"
    }
  },
  "cells": [
    {
      "cell_type": "markdown",
      "metadata": {
        "id": "view-in-github",
        "colab_type": "text"
      },
      "source": [
        "<a href=\"https://colab.research.google.com/github/lindseyvanosky/Pipelines-Activity-Exercise/blob/main/LV_Pipelines_Activity.ipynb\" target=\"_parent\"><img src=\"https://colab.research.google.com/assets/colab-badge.svg\" alt=\"Open In Colab\"/></a>"
      ]
    },
    {
      "cell_type": "markdown",
      "source": [
        "#Pipelines Activity\n",
        "- Lindsey Vanosky \n",
        "- 06.23.22"
      ],
      "metadata": {
        "id": "IZFNCO5eri_9"
      }
    },
    {
      "cell_type": "markdown",
      "source": [
        "##Import, Upload & Inspect"
      ],
      "metadata": {
        "id": "bvQ7o2B_sRpW"
      }
    },
    {
      "cell_type": "code",
      "source": [
        "# imports\n",
        "import pandas as pd\n",
        "import numpy as np\n",
        "from sklearn.preprocessing import StandardScaler, OneHotEncoder\n",
        "from sklearn.impute import SimpleImputer\n",
        "from sklearn.compose import make_column_transformer, make_column_selector\n",
        "from sklearn.pipeline import make_pipeline\n",
        "from sklearn.model_selection import train_test_split\n",
        "from sklearn import set_config\n",
        "set_config(display='diagram')\n",
        "\n",
        "\n",
        "filename = \"/content/drive/MyDrive/Coding Dojo/02 Stack 2: Intro to Machine Learning/Data Sets/Cereal with missing values.xlsx - Sheet 1 - cereal.csv\"\n",
        "df = pd.read_csv(filename)\n",
        "df.head()\n"
      ],
      "metadata": {
        "colab": {
          "base_uri": "https://localhost:8080/",
          "height": 409
        },
        "id": "anOclicVrqXk",
        "outputId": "0f54f9f5-4a96-406a-8416-418f3ca05f12"
      },
      "execution_count": null,
      "outputs": [
        {
          "output_type": "execute_result",
          "data": {
            "text/plain": [
              "                      name   Manufacturer  type  calories per serving  \\\n",
              "0  Apple Cinnamon Cheerios  General Mills  Cold                 110.0   \n",
              "1                  Basic 4  General Mills  Cold                 130.0   \n",
              "2                 Cheerios  General Mills  Cold                   NaN   \n",
              "3    Cinnamon Toast Crunch  General Mills  Cold                 120.0   \n",
              "4                 Clusters  General Mills  Cold                 110.0   \n",
              "\n",
              "   grams of protein  grams of fat  milligrams of sodium  \\\n",
              "0                 2           2.0                 180.0   \n",
              "1                 3           2.0                   NaN   \n",
              "2                 6           2.0                 290.0   \n",
              "3                 1           3.0                 210.0   \n",
              "4                 3           2.0                 140.0   \n",
              "\n",
              "   grams of dietary fiber  grams of complex carbohydrates  grams of sugars  \\\n",
              "0                     1.5                            10.5             10.0   \n",
              "1                     2.0                            18.0              NaN   \n",
              "2                     2.0                            17.0              1.0   \n",
              "3                     0.0                            13.0              9.0   \n",
              "4                     2.0                            13.0              7.0   \n",
              "\n",
              "   milligrams of potassium  vitamins and minerals (% of FDA recommendation)  \\\n",
              "0                       70                                             25.0   \n",
              "1                      100                                             25.0   \n",
              "2                      105                                             25.0   \n",
              "3                       45                                             25.0   \n",
              "4                      105                                             25.0   \n",
              "\n",
              "   Display shelf  Weight in ounces per one serving  \\\n",
              "0              1                              1.00   \n",
              "1              3                              1.33   \n",
              "2              1                              1.00   \n",
              "3              2                              1.00   \n",
              "4              3                              1.00   \n",
              "\n",
              "   Number of cups in one serving  Rating of cereal  \n",
              "0                           0.75         29.509541  \n",
              "1                           0.75         37.038562  \n",
              "2                           1.25         50.764999  \n",
              "3                           0.75         19.823573  \n",
              "4                           0.50         40.400208  "
            ],
            "text/html": [
              "\n",
              "  <div id=\"df-c473978b-0cda-44d4-a3a2-6391e8221240\">\n",
              "    <div class=\"colab-df-container\">\n",
              "      <div>\n",
              "<style scoped>\n",
              "    .dataframe tbody tr th:only-of-type {\n",
              "        vertical-align: middle;\n",
              "    }\n",
              "\n",
              "    .dataframe tbody tr th {\n",
              "        vertical-align: top;\n",
              "    }\n",
              "\n",
              "    .dataframe thead th {\n",
              "        text-align: right;\n",
              "    }\n",
              "</style>\n",
              "<table border=\"1\" class=\"dataframe\">\n",
              "  <thead>\n",
              "    <tr style=\"text-align: right;\">\n",
              "      <th></th>\n",
              "      <th>name</th>\n",
              "      <th>Manufacturer</th>\n",
              "      <th>type</th>\n",
              "      <th>calories per serving</th>\n",
              "      <th>grams of protein</th>\n",
              "      <th>grams of fat</th>\n",
              "      <th>milligrams of sodium</th>\n",
              "      <th>grams of dietary fiber</th>\n",
              "      <th>grams of complex carbohydrates</th>\n",
              "      <th>grams of sugars</th>\n",
              "      <th>milligrams of potassium</th>\n",
              "      <th>vitamins and minerals (% of FDA recommendation)</th>\n",
              "      <th>Display shelf</th>\n",
              "      <th>Weight in ounces per one serving</th>\n",
              "      <th>Number of cups in one serving</th>\n",
              "      <th>Rating of cereal</th>\n",
              "    </tr>\n",
              "  </thead>\n",
              "  <tbody>\n",
              "    <tr>\n",
              "      <th>0</th>\n",
              "      <td>Apple Cinnamon Cheerios</td>\n",
              "      <td>General Mills</td>\n",
              "      <td>Cold</td>\n",
              "      <td>110.0</td>\n",
              "      <td>2</td>\n",
              "      <td>2.0</td>\n",
              "      <td>180.0</td>\n",
              "      <td>1.5</td>\n",
              "      <td>10.5</td>\n",
              "      <td>10.0</td>\n",
              "      <td>70</td>\n",
              "      <td>25.0</td>\n",
              "      <td>1</td>\n",
              "      <td>1.00</td>\n",
              "      <td>0.75</td>\n",
              "      <td>29.509541</td>\n",
              "    </tr>\n",
              "    <tr>\n",
              "      <th>1</th>\n",
              "      <td>Basic 4</td>\n",
              "      <td>General Mills</td>\n",
              "      <td>Cold</td>\n",
              "      <td>130.0</td>\n",
              "      <td>3</td>\n",
              "      <td>2.0</td>\n",
              "      <td>NaN</td>\n",
              "      <td>2.0</td>\n",
              "      <td>18.0</td>\n",
              "      <td>NaN</td>\n",
              "      <td>100</td>\n",
              "      <td>25.0</td>\n",
              "      <td>3</td>\n",
              "      <td>1.33</td>\n",
              "      <td>0.75</td>\n",
              "      <td>37.038562</td>\n",
              "    </tr>\n",
              "    <tr>\n",
              "      <th>2</th>\n",
              "      <td>Cheerios</td>\n",
              "      <td>General Mills</td>\n",
              "      <td>Cold</td>\n",
              "      <td>NaN</td>\n",
              "      <td>6</td>\n",
              "      <td>2.0</td>\n",
              "      <td>290.0</td>\n",
              "      <td>2.0</td>\n",
              "      <td>17.0</td>\n",
              "      <td>1.0</td>\n",
              "      <td>105</td>\n",
              "      <td>25.0</td>\n",
              "      <td>1</td>\n",
              "      <td>1.00</td>\n",
              "      <td>1.25</td>\n",
              "      <td>50.764999</td>\n",
              "    </tr>\n",
              "    <tr>\n",
              "      <th>3</th>\n",
              "      <td>Cinnamon Toast Crunch</td>\n",
              "      <td>General Mills</td>\n",
              "      <td>Cold</td>\n",
              "      <td>120.0</td>\n",
              "      <td>1</td>\n",
              "      <td>3.0</td>\n",
              "      <td>210.0</td>\n",
              "      <td>0.0</td>\n",
              "      <td>13.0</td>\n",
              "      <td>9.0</td>\n",
              "      <td>45</td>\n",
              "      <td>25.0</td>\n",
              "      <td>2</td>\n",
              "      <td>1.00</td>\n",
              "      <td>0.75</td>\n",
              "      <td>19.823573</td>\n",
              "    </tr>\n",
              "    <tr>\n",
              "      <th>4</th>\n",
              "      <td>Clusters</td>\n",
              "      <td>General Mills</td>\n",
              "      <td>Cold</td>\n",
              "      <td>110.0</td>\n",
              "      <td>3</td>\n",
              "      <td>2.0</td>\n",
              "      <td>140.0</td>\n",
              "      <td>2.0</td>\n",
              "      <td>13.0</td>\n",
              "      <td>7.0</td>\n",
              "      <td>105</td>\n",
              "      <td>25.0</td>\n",
              "      <td>3</td>\n",
              "      <td>1.00</td>\n",
              "      <td>0.50</td>\n",
              "      <td>40.400208</td>\n",
              "    </tr>\n",
              "  </tbody>\n",
              "</table>\n",
              "</div>\n",
              "      <button class=\"colab-df-convert\" onclick=\"convertToInteractive('df-c473978b-0cda-44d4-a3a2-6391e8221240')\"\n",
              "              title=\"Convert this dataframe to an interactive table.\"\n",
              "              style=\"display:none;\">\n",
              "        \n",
              "  <svg xmlns=\"http://www.w3.org/2000/svg\" height=\"24px\"viewBox=\"0 0 24 24\"\n",
              "       width=\"24px\">\n",
              "    <path d=\"M0 0h24v24H0V0z\" fill=\"none\"/>\n",
              "    <path d=\"M18.56 5.44l.94 2.06.94-2.06 2.06-.94-2.06-.94-.94-2.06-.94 2.06-2.06.94zm-11 1L8.5 8.5l.94-2.06 2.06-.94-2.06-.94L8.5 2.5l-.94 2.06-2.06.94zm10 10l.94 2.06.94-2.06 2.06-.94-2.06-.94-.94-2.06-.94 2.06-2.06.94z\"/><path d=\"M17.41 7.96l-1.37-1.37c-.4-.4-.92-.59-1.43-.59-.52 0-1.04.2-1.43.59L10.3 9.45l-7.72 7.72c-.78.78-.78 2.05 0 2.83L4 21.41c.39.39.9.59 1.41.59.51 0 1.02-.2 1.41-.59l7.78-7.78 2.81-2.81c.8-.78.8-2.07 0-2.86zM5.41 20L4 18.59l7.72-7.72 1.47 1.35L5.41 20z\"/>\n",
              "  </svg>\n",
              "      </button>\n",
              "      \n",
              "  <style>\n",
              "    .colab-df-container {\n",
              "      display:flex;\n",
              "      flex-wrap:wrap;\n",
              "      gap: 12px;\n",
              "    }\n",
              "\n",
              "    .colab-df-convert {\n",
              "      background-color: #E8F0FE;\n",
              "      border: none;\n",
              "      border-radius: 50%;\n",
              "      cursor: pointer;\n",
              "      display: none;\n",
              "      fill: #1967D2;\n",
              "      height: 32px;\n",
              "      padding: 0 0 0 0;\n",
              "      width: 32px;\n",
              "    }\n",
              "\n",
              "    .colab-df-convert:hover {\n",
              "      background-color: #E2EBFA;\n",
              "      box-shadow: 0px 1px 2px rgba(60, 64, 67, 0.3), 0px 1px 3px 1px rgba(60, 64, 67, 0.15);\n",
              "      fill: #174EA6;\n",
              "    }\n",
              "\n",
              "    [theme=dark] .colab-df-convert {\n",
              "      background-color: #3B4455;\n",
              "      fill: #D2E3FC;\n",
              "    }\n",
              "\n",
              "    [theme=dark] .colab-df-convert:hover {\n",
              "      background-color: #434B5C;\n",
              "      box-shadow: 0px 1px 3px 1px rgba(0, 0, 0, 0.15);\n",
              "      filter: drop-shadow(0px 1px 2px rgba(0, 0, 0, 0.3));\n",
              "      fill: #FFFFFF;\n",
              "    }\n",
              "  </style>\n",
              "\n",
              "      <script>\n",
              "        const buttonEl =\n",
              "          document.querySelector('#df-c473978b-0cda-44d4-a3a2-6391e8221240 button.colab-df-convert');\n",
              "        buttonEl.style.display =\n",
              "          google.colab.kernel.accessAllowed ? 'block' : 'none';\n",
              "\n",
              "        async function convertToInteractive(key) {\n",
              "          const element = document.querySelector('#df-c473978b-0cda-44d4-a3a2-6391e8221240');\n",
              "          const dataTable =\n",
              "            await google.colab.kernel.invokeFunction('convertToInteractive',\n",
              "                                                     [key], {});\n",
              "          if (!dataTable) return;\n",
              "\n",
              "          const docLinkHtml = 'Like what you see? Visit the ' +\n",
              "            '<a target=\"_blank\" href=https://colab.research.google.com/notebooks/data_table.ipynb>data table notebook</a>'\n",
              "            + ' to learn more about interactive tables.';\n",
              "          element.innerHTML = '';\n",
              "          dataTable['output_type'] = 'display_data';\n",
              "          await google.colab.output.renderOutput(dataTable, element);\n",
              "          const docLink = document.createElement('div');\n",
              "          docLink.innerHTML = docLinkHtml;\n",
              "          element.appendChild(docLink);\n",
              "        }\n",
              "      </script>\n",
              "    </div>\n",
              "  </div>\n",
              "  "
            ]
          },
          "metadata": {},
          "execution_count": 21
        }
      ]
    },
    {
      "cell_type": "code",
      "source": [
        "df.info()"
      ],
      "metadata": {
        "colab": {
          "base_uri": "https://localhost:8080/"
        },
        "id": "tZxOAfXr7PSZ",
        "outputId": "f81519b6-2ee7-4478-ceb3-e568baaec486"
      },
      "execution_count": null,
      "outputs": [
        {
          "output_type": "stream",
          "name": "stdout",
          "text": [
            "<class 'pandas.core.frame.DataFrame'>\n",
            "RangeIndex: 77 entries, 0 to 76\n",
            "Data columns (total 16 columns):\n",
            " #   Column                                           Non-Null Count  Dtype  \n",
            "---  ------                                           --------------  -----  \n",
            " 0   name                                             77 non-null     object \n",
            " 1   Manufacturer                                     77 non-null     object \n",
            " 2   type                                             68 non-null     object \n",
            " 3   calories per serving                             70 non-null     float64\n",
            " 4   grams of protein                                 77 non-null     int64  \n",
            " 5   grams of fat                                     69 non-null     float64\n",
            " 6   milligrams of sodium                             76 non-null     float64\n",
            " 7   grams of dietary fiber                           77 non-null     float64\n",
            " 8   grams of complex carbohydrates                   77 non-null     float64\n",
            " 9   grams of sugars                                  68 non-null     float64\n",
            " 10  milligrams of potassium                          77 non-null     int64  \n",
            " 11  vitamins and minerals (% of FDA recommendation)  76 non-null     float64\n",
            " 12  Display shelf                                    77 non-null     int64  \n",
            " 13  Weight in ounces per one serving                 77 non-null     float64\n",
            " 14  Number of cups in one serving                    77 non-null     float64\n",
            " 15  Rating of cereal                                 77 non-null     float64\n",
            "dtypes: float64(10), int64(3), object(3)\n",
            "memory usage: 9.8+ KB\n"
          ]
        }
      ]
    },
    {
      "cell_type": "code",
      "source": [
        "df.drop(columns = [\"grams of protein\", \"name\", \"milligrams of sodium\", \"grams of dietary fiber\", \"grams of complex carbohydrates\", \"milligrams of potassium\", \"vitamins and minerals (% of FDA recommendation)\", \"Display shelf\", \"Number of cups in one serving\", \"Rating of cereal\"], inplace = True)"
      ],
      "metadata": {
        "id": "lxbwy9RpyJ_q"
      },
      "execution_count": null,
      "outputs": []
    },
    {
      "cell_type": "code",
      "source": [
        "df.isna().sum()"
      ],
      "metadata": {
        "colab": {
          "base_uri": "https://localhost:8080/"
        },
        "id": "2folubWE7_rr",
        "outputId": "c1520686-2844-427e-fef2-a76276b02d83"
      },
      "execution_count": null,
      "outputs": [
        {
          "output_type": "execute_result",
          "data": {
            "text/plain": [
              "Manufacturer                        0\n",
              "type                                9\n",
              "calories per serving                7\n",
              "grams of fat                        8\n",
              "grams of sugars                     9\n",
              "Weight in ounces per one serving    0\n",
              "dtype: int64"
            ]
          },
          "metadata": {},
          "execution_count": 24
        }
      ]
    },
    {
      "cell_type": "code",
      "source": [
        "df.dropna(inplace = True)"
      ],
      "metadata": {
        "id": "0xWe6Ssm8lN6"
      },
      "execution_count": null,
      "outputs": []
    },
    {
      "cell_type": "markdown",
      "source": [
        "##Define Features & Validation Split "
      ],
      "metadata": {
        "id": "RkMQrWr1ui0s"
      }
    },
    {
      "cell_type": "code",
      "source": [
        "y = df[\"calories per serving\"]\n",
        "x = df.drop(columns = \"calories per serving\")\n",
        "\n",
        "X_train, x_test, y_train, y_test = train_test_split(x, y, random_state=42)\n"
      ],
      "metadata": {
        "id": "V5-MKgzKulDu"
      },
      "execution_count": null,
      "outputs": []
    },
    {
      "cell_type": "markdown",
      "source": [
        "The feature types are as followed:\n",
        "\n",
        "Nominal: name, Manufacturer, type\n",
        "\n",
        "Numerical: grams of fat, grams of sugars, Weight in ounces per one serving\n"
      ],
      "metadata": {
        "id": "kIPScv9H2jK_"
      }
    },
    {
      "cell_type": "code",
      "source": [
        "df.info()"
      ],
      "metadata": {
        "colab": {
          "base_uri": "https://localhost:8080/"
        },
        "id": "ZuCheQHz2m7o",
        "outputId": "f1da2365-6082-4fe9-b262-30a3c7c49114"
      },
      "execution_count": null,
      "outputs": [
        {
          "output_type": "stream",
          "name": "stdout",
          "text": [
            "<class 'pandas.core.frame.DataFrame'>\n",
            "Int64Index: 52 entries, 0 to 76\n",
            "Data columns (total 6 columns):\n",
            " #   Column                            Non-Null Count  Dtype  \n",
            "---  ------                            --------------  -----  \n",
            " 0   Manufacturer                      52 non-null     object \n",
            " 1   type                              52 non-null     object \n",
            " 2   calories per serving              52 non-null     float64\n",
            " 3   grams of fat                      52 non-null     float64\n",
            " 4   grams of sugars                   52 non-null     float64\n",
            " 5   Weight in ounces per one serving  52 non-null     float64\n",
            "dtypes: float64(4), object(2)\n",
            "memory usage: 2.8+ KB\n"
          ]
        }
      ]
    },
    {
      "cell_type": "markdown",
      "source": [
        "##Imputation"
      ],
      "metadata": {
        "id": "kU5-NX9y3LFb"
      }
    },
    {
      "cell_type": "code",
      "source": [
        "df.isna().sum()"
      ],
      "metadata": {
        "colab": {
          "base_uri": "https://localhost:8080/"
        },
        "id": "5-bgLypl7ezr",
        "outputId": "a8d9e89c-e530-4d21-d733-caaaf991708b"
      },
      "execution_count": null,
      "outputs": [
        {
          "output_type": "execute_result",
          "data": {
            "text/plain": [
              "Manufacturer                        0\n",
              "type                                0\n",
              "calories per serving                0\n",
              "grams of fat                        0\n",
              "grams of sugars                     0\n",
              "Weight in ounces per one serving    0\n",
              "dtype: int64"
            ]
          },
          "metadata": {},
          "execution_count": 28
        }
      ]
    },
    {
      "cell_type": "code",
      "source": [
        "df[\"type\"].value_counts()"
      ],
      "metadata": {
        "colab": {
          "base_uri": "https://localhost:8080/"
        },
        "id": "6LM5Zqr_7jUC",
        "outputId": "f3b0c66a-aa82-4308-d28d-6b3edc22b7d9"
      },
      "execution_count": null,
      "outputs": [
        {
          "output_type": "execute_result",
          "data": {
            "text/plain": [
              "Cold    50\n",
              "Hot      2\n",
              "Name: type, dtype: int64"
            ]
          },
          "metadata": {},
          "execution_count": 29
        }
      ]
    },
    {
      "cell_type": "code",
      "source": [
        "df[\"grams of fat\"].value_counts()"
      ],
      "metadata": {
        "colab": {
          "base_uri": "https://localhost:8080/"
        },
        "id": "7uJWi65J7tiT",
        "outputId": "61f7aa0a-e8ad-458a-9180-de666cc710b5"
      },
      "execution_count": null,
      "outputs": [
        {
          "output_type": "execute_result",
          "data": {
            "text/plain": [
              "0.0    21\n",
              "1.0    19\n",
              "2.0     8\n",
              "3.0     3\n",
              "5.0     1\n",
              "Name: grams of fat, dtype: int64"
            ]
          },
          "metadata": {},
          "execution_count": 30
        }
      ]
    },
    {
      "cell_type": "code",
      "source": [
        "df[\"grams of sugars\"].value_counts()"
      ],
      "metadata": {
        "colab": {
          "base_uri": "https://localhost:8080/"
        },
        "id": "1jslwUqp76_t",
        "outputId": "5cbe656e-c2ba-481c-ea2f-c4ff84b7a321"
      },
      "execution_count": null,
      "outputs": [
        {
          "output_type": "execute_result",
          "data": {
            "text/plain": [
              " 3.0     8\n",
              " 0.0     6\n",
              " 6.0     5\n",
              " 8.0     4\n",
              " 12.0    4\n",
              " 10.0    3\n",
              " 7.0     3\n",
              " 13.0    3\n",
              " 11.0    3\n",
              " 5.0     3\n",
              " 9.0     2\n",
              " 14.0    2\n",
              " 2.0     2\n",
              " 15.0    2\n",
              " 4.0     1\n",
              "-1.0     1\n",
              "Name: grams of sugars, dtype: int64"
            ]
          },
          "metadata": {},
          "execution_count": 31
        }
      ]
    },
    {
      "cell_type": "markdown",
      "source": [
        "###Building column selectors"
      ],
      "metadata": {
        "id": "P-LCwKtm8kuf"
      }
    },
    {
      "cell_type": "code",
      "source": [
        "cat_selector = make_column_selector(dtype_include=\"object\")\n",
        "num_selector = make_column_selector(dtype_include=\"number\")"
      ],
      "metadata": {
        "id": "9OBMb98m8qPl"
      },
      "execution_count": null,
      "outputs": []
    },
    {
      "cell_type": "markdown",
      "source": [
        "###Building imputers"
      ],
      "metadata": {
        "id": "18sXD6p69CcX"
      }
    },
    {
      "cell_type": "code",
      "source": [
        "freq_imputer = SimpleImputer(strategy = \"most_frequent\")\n",
        "mean_imputer = SimpleImputer(strategy = \"mean\")"
      ],
      "metadata": {
        "id": "FdYP9xiM8_jc"
      },
      "execution_count": null,
      "outputs": []
    },
    {
      "cell_type": "markdown",
      "source": [
        "###OneHotEncode & Scaler"
      ],
      "metadata": {
        "id": "oYgw32I79v64"
      }
    },
    {
      "cell_type": "code",
      "source": [
        "ohe = OneHotEncoder(handle_unknown=\"ignore\", sparse = False)\n",
        "scaler = StandardScaler()"
      ],
      "metadata": {
        "id": "BCmDCPyn9yli"
      },
      "execution_count": null,
      "outputs": []
    },
    {
      "cell_type": "markdown",
      "source": [
        "###Pipelines"
      ],
      "metadata": {
        "id": "evXJAZo7-T0c"
      }
    },
    {
      "cell_type": "code",
      "source": [
        "numeric_pipeline = make_pipeline(mean_imputer, scaler)\n",
        "cat_pipeline = make_pipeline(freq_imputer, ohe)"
      ],
      "metadata": {
        "id": "R0Bn79Bb-VLP"
      },
      "execution_count": null,
      "outputs": []
    },
    {
      "cell_type": "markdown",
      "source": [
        "##Column Transform"
      ],
      "metadata": {
        "id": "3MSgxmpB_E5l"
      }
    },
    {
      "cell_type": "code",
      "source": [
        "num_tuple = (numeric_pipeline, num_selector)\n",
        "cat_tuple = (cat_pipeline, cat_selector)\n",
        "preprocessor = make_column_transformer(num_tuple, cat_tuple)\n",
        "preprocessor"
      ],
      "metadata": {
        "colab": {
          "base_uri": "https://localhost:8080/",
          "height": 152
        },
        "id": "3HtF-G0Y_G1J",
        "outputId": "ed1c409d-1b20-47a9-fc59-b72b5a236c87"
      },
      "execution_count": null,
      "outputs": [
        {
          "output_type": "execute_result",
          "data": {
            "text/plain": [
              "ColumnTransformer(transformers=[('pipeline-1',\n",
              "                                 Pipeline(steps=[('simpleimputer',\n",
              "                                                  SimpleImputer()),\n",
              "                                                 ('standardscaler',\n",
              "                                                  StandardScaler())]),\n",
              "                                 <sklearn.compose._column_transformer.make_column_selector object at 0x7fd2045a7810>),\n",
              "                                ('pipeline-2',\n",
              "                                 Pipeline(steps=[('simpleimputer',\n",
              "                                                  SimpleImputer(strategy='most_frequent')),\n",
              "                                                 ('onehotencoder',\n",
              "                                                  OneHotEncoder(handle_unknown='ignore',\n",
              "                                                                sparse=False))]),\n",
              "                                 <sklearn.compose._column_transformer.make_column_selector object at 0x7fd2045a7290>)])"
            ],
            "text/html": [
              "<style>#sk-899b729f-5ce1-4191-9a16-cfb38b10b02e {color: black;background-color: white;}#sk-899b729f-5ce1-4191-9a16-cfb38b10b02e pre{padding: 0;}#sk-899b729f-5ce1-4191-9a16-cfb38b10b02e div.sk-toggleable {background-color: white;}#sk-899b729f-5ce1-4191-9a16-cfb38b10b02e label.sk-toggleable__label {cursor: pointer;display: block;width: 100%;margin-bottom: 0;padding: 0.3em;box-sizing: border-box;text-align: center;}#sk-899b729f-5ce1-4191-9a16-cfb38b10b02e label.sk-toggleable__label-arrow:before {content: \"▸\";float: left;margin-right: 0.25em;color: #696969;}#sk-899b729f-5ce1-4191-9a16-cfb38b10b02e label.sk-toggleable__label-arrow:hover:before {color: black;}#sk-899b729f-5ce1-4191-9a16-cfb38b10b02e div.sk-estimator:hover label.sk-toggleable__label-arrow:before {color: black;}#sk-899b729f-5ce1-4191-9a16-cfb38b10b02e div.sk-toggleable__content {max-height: 0;max-width: 0;overflow: hidden;text-align: left;background-color: #f0f8ff;}#sk-899b729f-5ce1-4191-9a16-cfb38b10b02e div.sk-toggleable__content pre {margin: 0.2em;color: black;border-radius: 0.25em;background-color: #f0f8ff;}#sk-899b729f-5ce1-4191-9a16-cfb38b10b02e input.sk-toggleable__control:checked~div.sk-toggleable__content {max-height: 200px;max-width: 100%;overflow: auto;}#sk-899b729f-5ce1-4191-9a16-cfb38b10b02e input.sk-toggleable__control:checked~label.sk-toggleable__label-arrow:before {content: \"▾\";}#sk-899b729f-5ce1-4191-9a16-cfb38b10b02e div.sk-estimator input.sk-toggleable__control:checked~label.sk-toggleable__label {background-color: #d4ebff;}#sk-899b729f-5ce1-4191-9a16-cfb38b10b02e div.sk-label input.sk-toggleable__control:checked~label.sk-toggleable__label {background-color: #d4ebff;}#sk-899b729f-5ce1-4191-9a16-cfb38b10b02e input.sk-hidden--visually {border: 0;clip: rect(1px 1px 1px 1px);clip: rect(1px, 1px, 1px, 1px);height: 1px;margin: -1px;overflow: hidden;padding: 0;position: absolute;width: 1px;}#sk-899b729f-5ce1-4191-9a16-cfb38b10b02e div.sk-estimator {font-family: monospace;background-color: #f0f8ff;border: 1px dotted black;border-radius: 0.25em;box-sizing: border-box;margin-bottom: 0.5em;}#sk-899b729f-5ce1-4191-9a16-cfb38b10b02e div.sk-estimator:hover {background-color: #d4ebff;}#sk-899b729f-5ce1-4191-9a16-cfb38b10b02e div.sk-parallel-item::after {content: \"\";width: 100%;border-bottom: 1px solid gray;flex-grow: 1;}#sk-899b729f-5ce1-4191-9a16-cfb38b10b02e div.sk-label:hover label.sk-toggleable__label {background-color: #d4ebff;}#sk-899b729f-5ce1-4191-9a16-cfb38b10b02e div.sk-serial::before {content: \"\";position: absolute;border-left: 1px solid gray;box-sizing: border-box;top: 2em;bottom: 0;left: 50%;}#sk-899b729f-5ce1-4191-9a16-cfb38b10b02e div.sk-serial {display: flex;flex-direction: column;align-items: center;background-color: white;padding-right: 0.2em;padding-left: 0.2em;}#sk-899b729f-5ce1-4191-9a16-cfb38b10b02e div.sk-item {z-index: 1;}#sk-899b729f-5ce1-4191-9a16-cfb38b10b02e div.sk-parallel {display: flex;align-items: stretch;justify-content: center;background-color: white;}#sk-899b729f-5ce1-4191-9a16-cfb38b10b02e div.sk-parallel::before {content: \"\";position: absolute;border-left: 1px solid gray;box-sizing: border-box;top: 2em;bottom: 0;left: 50%;}#sk-899b729f-5ce1-4191-9a16-cfb38b10b02e div.sk-parallel-item {display: flex;flex-direction: column;position: relative;background-color: white;}#sk-899b729f-5ce1-4191-9a16-cfb38b10b02e div.sk-parallel-item:first-child::after {align-self: flex-end;width: 50%;}#sk-899b729f-5ce1-4191-9a16-cfb38b10b02e div.sk-parallel-item:last-child::after {align-self: flex-start;width: 50%;}#sk-899b729f-5ce1-4191-9a16-cfb38b10b02e div.sk-parallel-item:only-child::after {width: 0;}#sk-899b729f-5ce1-4191-9a16-cfb38b10b02e div.sk-dashed-wrapped {border: 1px dashed gray;margin: 0 0.4em 0.5em 0.4em;box-sizing: border-box;padding-bottom: 0.4em;background-color: white;position: relative;}#sk-899b729f-5ce1-4191-9a16-cfb38b10b02e div.sk-label label {font-family: monospace;font-weight: bold;background-color: white;display: inline-block;line-height: 1.2em;}#sk-899b729f-5ce1-4191-9a16-cfb38b10b02e div.sk-label-container {position: relative;z-index: 2;text-align: center;}#sk-899b729f-5ce1-4191-9a16-cfb38b10b02e div.sk-container {/* jupyter's `normalize.less` sets `[hidden] { display: none; }` but bootstrap.min.css set `[hidden] { display: none !important; }` so we also need the `!important` here to be able to override the default hidden behavior on the sphinx rendered scikit-learn.org. See: https://github.com/scikit-learn/scikit-learn/issues/21755 */display: inline-block !important;position: relative;}#sk-899b729f-5ce1-4191-9a16-cfb38b10b02e div.sk-text-repr-fallback {display: none;}</style><div id=\"sk-899b729f-5ce1-4191-9a16-cfb38b10b02e\" class=\"sk-top-container\"><div class=\"sk-text-repr-fallback\"><pre>ColumnTransformer(transformers=[(&#x27;pipeline-1&#x27;,\n",
              "                                 Pipeline(steps=[(&#x27;simpleimputer&#x27;,\n",
              "                                                  SimpleImputer()),\n",
              "                                                 (&#x27;standardscaler&#x27;,\n",
              "                                                  StandardScaler())]),\n",
              "                                 &lt;sklearn.compose._column_transformer.make_column_selector object at 0x7fd2045a7810&gt;),\n",
              "                                (&#x27;pipeline-2&#x27;,\n",
              "                                 Pipeline(steps=[(&#x27;simpleimputer&#x27;,\n",
              "                                                  SimpleImputer(strategy=&#x27;most_frequent&#x27;)),\n",
              "                                                 (&#x27;onehotencoder&#x27;,\n",
              "                                                  OneHotEncoder(handle_unknown=&#x27;ignore&#x27;,\n",
              "                                                                sparse=False))]),\n",
              "                                 &lt;sklearn.compose._column_transformer.make_column_selector object at 0x7fd2045a7290&gt;)])</pre><b>Please rerun this cell to show the HTML repr or trust the notebook.</b></div><div class=\"sk-container\" hidden><div class=\"sk-item sk-dashed-wrapped\"><div class=\"sk-label-container\"><div class=\"sk-label sk-toggleable\"><input class=\"sk-toggleable__control sk-hidden--visually\" id=\"a0bb050c-7e2a-454f-9919-b7f87c350ccf\" type=\"checkbox\" ><label for=\"a0bb050c-7e2a-454f-9919-b7f87c350ccf\" class=\"sk-toggleable__label sk-toggleable__label-arrow\">ColumnTransformer</label><div class=\"sk-toggleable__content\"><pre>ColumnTransformer(transformers=[(&#x27;pipeline-1&#x27;,\n",
              "                                 Pipeline(steps=[(&#x27;simpleimputer&#x27;,\n",
              "                                                  SimpleImputer()),\n",
              "                                                 (&#x27;standardscaler&#x27;,\n",
              "                                                  StandardScaler())]),\n",
              "                                 &lt;sklearn.compose._column_transformer.make_column_selector object at 0x7fd2045a7810&gt;),\n",
              "                                (&#x27;pipeline-2&#x27;,\n",
              "                                 Pipeline(steps=[(&#x27;simpleimputer&#x27;,\n",
              "                                                  SimpleImputer(strategy=&#x27;most_frequent&#x27;)),\n",
              "                                                 (&#x27;onehotencoder&#x27;,\n",
              "                                                  OneHotEncoder(handle_unknown=&#x27;ignore&#x27;,\n",
              "                                                                sparse=False))]),\n",
              "                                 &lt;sklearn.compose._column_transformer.make_column_selector object at 0x7fd2045a7290&gt;)])</pre></div></div></div><div class=\"sk-parallel\"><div class=\"sk-parallel-item\"><div class=\"sk-item\"><div class=\"sk-label-container\"><div class=\"sk-label sk-toggleable\"><input class=\"sk-toggleable__control sk-hidden--visually\" id=\"7121184c-7de7-4d81-a527-003e6e19852e\" type=\"checkbox\" ><label for=\"7121184c-7de7-4d81-a527-003e6e19852e\" class=\"sk-toggleable__label sk-toggleable__label-arrow\">pipeline-1</label><div class=\"sk-toggleable__content\"><pre>&lt;sklearn.compose._column_transformer.make_column_selector object at 0x7fd2045a7810&gt;</pre></div></div></div><div class=\"sk-serial\"><div class=\"sk-item\"><div class=\"sk-serial\"><div class=\"sk-item\"><div class=\"sk-estimator sk-toggleable\"><input class=\"sk-toggleable__control sk-hidden--visually\" id=\"a3a0e6d5-09d2-4f8f-ac51-e4bf23e37ade\" type=\"checkbox\" ><label for=\"a3a0e6d5-09d2-4f8f-ac51-e4bf23e37ade\" class=\"sk-toggleable__label sk-toggleable__label-arrow\">SimpleImputer</label><div class=\"sk-toggleable__content\"><pre>SimpleImputer()</pre></div></div></div><div class=\"sk-item\"><div class=\"sk-estimator sk-toggleable\"><input class=\"sk-toggleable__control sk-hidden--visually\" id=\"4c393a0a-3e1a-4a5c-8447-adb59a05dd51\" type=\"checkbox\" ><label for=\"4c393a0a-3e1a-4a5c-8447-adb59a05dd51\" class=\"sk-toggleable__label sk-toggleable__label-arrow\">StandardScaler</label><div class=\"sk-toggleable__content\"><pre>StandardScaler()</pre></div></div></div></div></div></div></div></div><div class=\"sk-parallel-item\"><div class=\"sk-item\"><div class=\"sk-label-container\"><div class=\"sk-label sk-toggleable\"><input class=\"sk-toggleable__control sk-hidden--visually\" id=\"44e20035-ecaa-451c-9cb8-c048a3b3b3ed\" type=\"checkbox\" ><label for=\"44e20035-ecaa-451c-9cb8-c048a3b3b3ed\" class=\"sk-toggleable__label sk-toggleable__label-arrow\">pipeline-2</label><div class=\"sk-toggleable__content\"><pre>&lt;sklearn.compose._column_transformer.make_column_selector object at 0x7fd2045a7290&gt;</pre></div></div></div><div class=\"sk-serial\"><div class=\"sk-item\"><div class=\"sk-serial\"><div class=\"sk-item\"><div class=\"sk-estimator sk-toggleable\"><input class=\"sk-toggleable__control sk-hidden--visually\" id=\"a08ec2da-4683-4696-b585-ddf14101f5c4\" type=\"checkbox\" ><label for=\"a08ec2da-4683-4696-b585-ddf14101f5c4\" class=\"sk-toggleable__label sk-toggleable__label-arrow\">SimpleImputer</label><div class=\"sk-toggleable__content\"><pre>SimpleImputer(strategy=&#x27;most_frequent&#x27;)</pre></div></div></div><div class=\"sk-item\"><div class=\"sk-estimator sk-toggleable\"><input class=\"sk-toggleable__control sk-hidden--visually\" id=\"c59f8aec-a67d-4a65-b431-8d2bd1a5efb2\" type=\"checkbox\" ><label for=\"c59f8aec-a67d-4a65-b431-8d2bd1a5efb2\" class=\"sk-toggleable__label sk-toggleable__label-arrow\">OneHotEncoder</label><div class=\"sk-toggleable__content\"><pre>OneHotEncoder(handle_unknown=&#x27;ignore&#x27;, sparse=False)</pre></div></div></div></div></div></div></div></div></div></div></div></div>"
            ]
          },
          "metadata": {},
          "execution_count": 36
        }
      ]
    },
    {
      "cell_type": "markdown",
      "source": [
        "###Fitting on train data"
      ],
      "metadata": {
        "id": "jhDM7aCVHCcv"
      }
    },
    {
      "cell_type": "code",
      "source": [
        "preprocessor.fit(X_train)"
      ],
      "metadata": {
        "colab": {
          "base_uri": "https://localhost:8080/",
          "height": 152
        },
        "id": "kp0ScouWHExO",
        "outputId": "1b20ecaa-449d-4efe-cd62-210f5fd67820"
      },
      "execution_count": null,
      "outputs": [
        {
          "output_type": "execute_result",
          "data": {
            "text/plain": [
              "ColumnTransformer(transformers=[('pipeline-1',\n",
              "                                 Pipeline(steps=[('simpleimputer',\n",
              "                                                  SimpleImputer()),\n",
              "                                                 ('standardscaler',\n",
              "                                                  StandardScaler())]),\n",
              "                                 <sklearn.compose._column_transformer.make_column_selector object at 0x7fd2045a7810>),\n",
              "                                ('pipeline-2',\n",
              "                                 Pipeline(steps=[('simpleimputer',\n",
              "                                                  SimpleImputer(strategy='most_frequent')),\n",
              "                                                 ('onehotencoder',\n",
              "                                                  OneHotEncoder(handle_unknown='ignore',\n",
              "                                                                sparse=False))]),\n",
              "                                 <sklearn.compose._column_transformer.make_column_selector object at 0x7fd2045a7290>)])"
            ],
            "text/html": [
              "<style>#sk-b39618bc-cfc8-4d61-b3a9-dcf6884bd944 {color: black;background-color: white;}#sk-b39618bc-cfc8-4d61-b3a9-dcf6884bd944 pre{padding: 0;}#sk-b39618bc-cfc8-4d61-b3a9-dcf6884bd944 div.sk-toggleable {background-color: white;}#sk-b39618bc-cfc8-4d61-b3a9-dcf6884bd944 label.sk-toggleable__label {cursor: pointer;display: block;width: 100%;margin-bottom: 0;padding: 0.3em;box-sizing: border-box;text-align: center;}#sk-b39618bc-cfc8-4d61-b3a9-dcf6884bd944 label.sk-toggleable__label-arrow:before {content: \"▸\";float: left;margin-right: 0.25em;color: #696969;}#sk-b39618bc-cfc8-4d61-b3a9-dcf6884bd944 label.sk-toggleable__label-arrow:hover:before {color: black;}#sk-b39618bc-cfc8-4d61-b3a9-dcf6884bd944 div.sk-estimator:hover label.sk-toggleable__label-arrow:before {color: black;}#sk-b39618bc-cfc8-4d61-b3a9-dcf6884bd944 div.sk-toggleable__content {max-height: 0;max-width: 0;overflow: hidden;text-align: left;background-color: #f0f8ff;}#sk-b39618bc-cfc8-4d61-b3a9-dcf6884bd944 div.sk-toggleable__content pre {margin: 0.2em;color: black;border-radius: 0.25em;background-color: #f0f8ff;}#sk-b39618bc-cfc8-4d61-b3a9-dcf6884bd944 input.sk-toggleable__control:checked~div.sk-toggleable__content {max-height: 200px;max-width: 100%;overflow: auto;}#sk-b39618bc-cfc8-4d61-b3a9-dcf6884bd944 input.sk-toggleable__control:checked~label.sk-toggleable__label-arrow:before {content: \"▾\";}#sk-b39618bc-cfc8-4d61-b3a9-dcf6884bd944 div.sk-estimator input.sk-toggleable__control:checked~label.sk-toggleable__label {background-color: #d4ebff;}#sk-b39618bc-cfc8-4d61-b3a9-dcf6884bd944 div.sk-label input.sk-toggleable__control:checked~label.sk-toggleable__label {background-color: #d4ebff;}#sk-b39618bc-cfc8-4d61-b3a9-dcf6884bd944 input.sk-hidden--visually {border: 0;clip: rect(1px 1px 1px 1px);clip: rect(1px, 1px, 1px, 1px);height: 1px;margin: -1px;overflow: hidden;padding: 0;position: absolute;width: 1px;}#sk-b39618bc-cfc8-4d61-b3a9-dcf6884bd944 div.sk-estimator {font-family: monospace;background-color: #f0f8ff;border: 1px dotted black;border-radius: 0.25em;box-sizing: border-box;margin-bottom: 0.5em;}#sk-b39618bc-cfc8-4d61-b3a9-dcf6884bd944 div.sk-estimator:hover {background-color: #d4ebff;}#sk-b39618bc-cfc8-4d61-b3a9-dcf6884bd944 div.sk-parallel-item::after {content: \"\";width: 100%;border-bottom: 1px solid gray;flex-grow: 1;}#sk-b39618bc-cfc8-4d61-b3a9-dcf6884bd944 div.sk-label:hover label.sk-toggleable__label {background-color: #d4ebff;}#sk-b39618bc-cfc8-4d61-b3a9-dcf6884bd944 div.sk-serial::before {content: \"\";position: absolute;border-left: 1px solid gray;box-sizing: border-box;top: 2em;bottom: 0;left: 50%;}#sk-b39618bc-cfc8-4d61-b3a9-dcf6884bd944 div.sk-serial {display: flex;flex-direction: column;align-items: center;background-color: white;padding-right: 0.2em;padding-left: 0.2em;}#sk-b39618bc-cfc8-4d61-b3a9-dcf6884bd944 div.sk-item {z-index: 1;}#sk-b39618bc-cfc8-4d61-b3a9-dcf6884bd944 div.sk-parallel {display: flex;align-items: stretch;justify-content: center;background-color: white;}#sk-b39618bc-cfc8-4d61-b3a9-dcf6884bd944 div.sk-parallel::before {content: \"\";position: absolute;border-left: 1px solid gray;box-sizing: border-box;top: 2em;bottom: 0;left: 50%;}#sk-b39618bc-cfc8-4d61-b3a9-dcf6884bd944 div.sk-parallel-item {display: flex;flex-direction: column;position: relative;background-color: white;}#sk-b39618bc-cfc8-4d61-b3a9-dcf6884bd944 div.sk-parallel-item:first-child::after {align-self: flex-end;width: 50%;}#sk-b39618bc-cfc8-4d61-b3a9-dcf6884bd944 div.sk-parallel-item:last-child::after {align-self: flex-start;width: 50%;}#sk-b39618bc-cfc8-4d61-b3a9-dcf6884bd944 div.sk-parallel-item:only-child::after {width: 0;}#sk-b39618bc-cfc8-4d61-b3a9-dcf6884bd944 div.sk-dashed-wrapped {border: 1px dashed gray;margin: 0 0.4em 0.5em 0.4em;box-sizing: border-box;padding-bottom: 0.4em;background-color: white;position: relative;}#sk-b39618bc-cfc8-4d61-b3a9-dcf6884bd944 div.sk-label label {font-family: monospace;font-weight: bold;background-color: white;display: inline-block;line-height: 1.2em;}#sk-b39618bc-cfc8-4d61-b3a9-dcf6884bd944 div.sk-label-container {position: relative;z-index: 2;text-align: center;}#sk-b39618bc-cfc8-4d61-b3a9-dcf6884bd944 div.sk-container {/* jupyter's `normalize.less` sets `[hidden] { display: none; }` but bootstrap.min.css set `[hidden] { display: none !important; }` so we also need the `!important` here to be able to override the default hidden behavior on the sphinx rendered scikit-learn.org. See: https://github.com/scikit-learn/scikit-learn/issues/21755 */display: inline-block !important;position: relative;}#sk-b39618bc-cfc8-4d61-b3a9-dcf6884bd944 div.sk-text-repr-fallback {display: none;}</style><div id=\"sk-b39618bc-cfc8-4d61-b3a9-dcf6884bd944\" class=\"sk-top-container\"><div class=\"sk-text-repr-fallback\"><pre>ColumnTransformer(transformers=[(&#x27;pipeline-1&#x27;,\n",
              "                                 Pipeline(steps=[(&#x27;simpleimputer&#x27;,\n",
              "                                                  SimpleImputer()),\n",
              "                                                 (&#x27;standardscaler&#x27;,\n",
              "                                                  StandardScaler())]),\n",
              "                                 &lt;sklearn.compose._column_transformer.make_column_selector object at 0x7fd2045a7810&gt;),\n",
              "                                (&#x27;pipeline-2&#x27;,\n",
              "                                 Pipeline(steps=[(&#x27;simpleimputer&#x27;,\n",
              "                                                  SimpleImputer(strategy=&#x27;most_frequent&#x27;)),\n",
              "                                                 (&#x27;onehotencoder&#x27;,\n",
              "                                                  OneHotEncoder(handle_unknown=&#x27;ignore&#x27;,\n",
              "                                                                sparse=False))]),\n",
              "                                 &lt;sklearn.compose._column_transformer.make_column_selector object at 0x7fd2045a7290&gt;)])</pre><b>Please rerun this cell to show the HTML repr or trust the notebook.</b></div><div class=\"sk-container\" hidden><div class=\"sk-item sk-dashed-wrapped\"><div class=\"sk-label-container\"><div class=\"sk-label sk-toggleable\"><input class=\"sk-toggleable__control sk-hidden--visually\" id=\"614f9016-d46b-4423-ac97-cb3ebd657c75\" type=\"checkbox\" ><label for=\"614f9016-d46b-4423-ac97-cb3ebd657c75\" class=\"sk-toggleable__label sk-toggleable__label-arrow\">ColumnTransformer</label><div class=\"sk-toggleable__content\"><pre>ColumnTransformer(transformers=[(&#x27;pipeline-1&#x27;,\n",
              "                                 Pipeline(steps=[(&#x27;simpleimputer&#x27;,\n",
              "                                                  SimpleImputer()),\n",
              "                                                 (&#x27;standardscaler&#x27;,\n",
              "                                                  StandardScaler())]),\n",
              "                                 &lt;sklearn.compose._column_transformer.make_column_selector object at 0x7fd2045a7810&gt;),\n",
              "                                (&#x27;pipeline-2&#x27;,\n",
              "                                 Pipeline(steps=[(&#x27;simpleimputer&#x27;,\n",
              "                                                  SimpleImputer(strategy=&#x27;most_frequent&#x27;)),\n",
              "                                                 (&#x27;onehotencoder&#x27;,\n",
              "                                                  OneHotEncoder(handle_unknown=&#x27;ignore&#x27;,\n",
              "                                                                sparse=False))]),\n",
              "                                 &lt;sklearn.compose._column_transformer.make_column_selector object at 0x7fd2045a7290&gt;)])</pre></div></div></div><div class=\"sk-parallel\"><div class=\"sk-parallel-item\"><div class=\"sk-item\"><div class=\"sk-label-container\"><div class=\"sk-label sk-toggleable\"><input class=\"sk-toggleable__control sk-hidden--visually\" id=\"ceeb4797-02b5-4b2f-af6e-3d346db8b829\" type=\"checkbox\" ><label for=\"ceeb4797-02b5-4b2f-af6e-3d346db8b829\" class=\"sk-toggleable__label sk-toggleable__label-arrow\">pipeline-1</label><div class=\"sk-toggleable__content\"><pre>&lt;sklearn.compose._column_transformer.make_column_selector object at 0x7fd2045a7810&gt;</pre></div></div></div><div class=\"sk-serial\"><div class=\"sk-item\"><div class=\"sk-serial\"><div class=\"sk-item\"><div class=\"sk-estimator sk-toggleable\"><input class=\"sk-toggleable__control sk-hidden--visually\" id=\"946cfc07-ae52-4138-9afe-f1fb6e1529ee\" type=\"checkbox\" ><label for=\"946cfc07-ae52-4138-9afe-f1fb6e1529ee\" class=\"sk-toggleable__label sk-toggleable__label-arrow\">SimpleImputer</label><div class=\"sk-toggleable__content\"><pre>SimpleImputer()</pre></div></div></div><div class=\"sk-item\"><div class=\"sk-estimator sk-toggleable\"><input class=\"sk-toggleable__control sk-hidden--visually\" id=\"99f47c76-b378-46ef-ade0-99d5516e2e52\" type=\"checkbox\" ><label for=\"99f47c76-b378-46ef-ade0-99d5516e2e52\" class=\"sk-toggleable__label sk-toggleable__label-arrow\">StandardScaler</label><div class=\"sk-toggleable__content\"><pre>StandardScaler()</pre></div></div></div></div></div></div></div></div><div class=\"sk-parallel-item\"><div class=\"sk-item\"><div class=\"sk-label-container\"><div class=\"sk-label sk-toggleable\"><input class=\"sk-toggleable__control sk-hidden--visually\" id=\"2db43ea2-5d1d-4d5f-bc92-24682797caa6\" type=\"checkbox\" ><label for=\"2db43ea2-5d1d-4d5f-bc92-24682797caa6\" class=\"sk-toggleable__label sk-toggleable__label-arrow\">pipeline-2</label><div class=\"sk-toggleable__content\"><pre>&lt;sklearn.compose._column_transformer.make_column_selector object at 0x7fd2045a7290&gt;</pre></div></div></div><div class=\"sk-serial\"><div class=\"sk-item\"><div class=\"sk-serial\"><div class=\"sk-item\"><div class=\"sk-estimator sk-toggleable\"><input class=\"sk-toggleable__control sk-hidden--visually\" id=\"5e226879-cd6e-4435-95d8-a096e686e816\" type=\"checkbox\" ><label for=\"5e226879-cd6e-4435-95d8-a096e686e816\" class=\"sk-toggleable__label sk-toggleable__label-arrow\">SimpleImputer</label><div class=\"sk-toggleable__content\"><pre>SimpleImputer(strategy=&#x27;most_frequent&#x27;)</pre></div></div></div><div class=\"sk-item\"><div class=\"sk-estimator sk-toggleable\"><input class=\"sk-toggleable__control sk-hidden--visually\" id=\"e68b1bc0-00cb-4e09-b273-441a22edc06e\" type=\"checkbox\" ><label for=\"e68b1bc0-00cb-4e09-b273-441a22edc06e\" class=\"sk-toggleable__label sk-toggleable__label-arrow\">OneHotEncoder</label><div class=\"sk-toggleable__content\"><pre>OneHotEncoder(handle_unknown=&#x27;ignore&#x27;, sparse=False)</pre></div></div></div></div></div></div></div></div></div></div></div></div>"
            ]
          },
          "metadata": {},
          "execution_count": 37
        }
      ]
    },
    {
      "cell_type": "code",
      "source": [
        "X_train_processed = preprocessor.transform(X_train)\n",
        "X_test_processed = preprocessor.transform(x_test)"
      ],
      "metadata": {
        "id": "-ipochhZHMVv"
      },
      "execution_count": null,
      "outputs": []
    },
    {
      "cell_type": "markdown",
      "source": [
        "###Inspection"
      ],
      "metadata": {
        "id": "uBq0aXRwHux8"
      }
    },
    {
      "cell_type": "code",
      "source": [
        "print(np.isnan(x_train_processed).sum().sum(), 'missing values in training data')\n",
        "print(np.isnan(x_test_processed).sum().sum(), 'missing values in testing data')\n",
        "print('\\n')\n",
        "print('All data in X_train_processed are', x_train_processed.dtype)\n",
        "print('All data in X_test_processed are', x_test_processed.dtype)\n",
        "print('\\n')\n",
        "print('shape of data is', x_train_processed.shape)\n",
        "print('\\n')\n",
        "x_train_processed\n",
        "\n"
      ],
      "metadata": {
        "colab": {
          "base_uri": "https://localhost:8080/"
        },
        "id": "5vSuIsAJHrtO",
        "outputId": "5fff8227-537a-4f93-9fc0-5f7efb593237"
      },
      "execution_count": null,
      "outputs": [
        {
          "output_type": "stream",
          "name": "stdout",
          "text": [
            "0 missing values in training data\n",
            "0 missing values in testing data\n",
            "\n",
            "\n",
            "All data in X_train_processed are float64\n",
            "All data in X_test_processed are float64\n",
            "\n",
            "\n",
            "shape of data is (39, 11)\n",
            "\n",
            "\n"
          ]
        },
        {
          "output_type": "execute_result",
          "data": {
            "text/plain": [
              "array([[-0.04533761,  0.60508726, -0.23626638,  1.        ,  0.        ,\n",
              "         0.        ,  0.        ,  0.        ,  0.        ,  1.        ,\n",
              "         0.        ],\n",
              "       [-0.92942091, -0.54046629, -0.23626638,  0.        ,  0.        ,\n",
              "         0.        ,  1.        ,  0.        ,  0.        ,  1.        ,\n",
              "         0.        ],\n",
              "       [-0.04533761,  0.60508726, -0.23626638,  1.        ,  0.        ,\n",
              "         0.        ,  0.        ,  0.        ,  0.        ,  1.        ,\n",
              "         0.        ],\n",
              "       [-0.92942091, -0.99868771, -0.23626638,  0.        ,  0.        ,\n",
              "         0.        ,  1.        ,  0.        ,  0.        ,  1.        ,\n",
              "         0.        ],\n",
              "       [ 0.8387457 ,  1.29241939,  2.85581036,  0.        ,  1.        ,\n",
              "         0.        ,  0.        ,  0.        ,  0.        ,  1.        ,\n",
              "         0.        ],\n",
              "       [-0.04533761, -0.31135558, -0.23626638,  0.        ,  0.        ,\n",
              "         0.        ,  0.        ,  1.        ,  0.        ,  1.        ,\n",
              "         0.        ],\n",
              "       [-0.92942091, -1.68601984, -0.23626638,  0.        ,  0.        ,\n",
              "         1.        ,  0.        ,  0.        ,  0.        ,  1.        ,\n",
              "         0.        ],\n",
              "       [-0.04533761, -0.99868771, -0.23626638,  0.        ,  0.        ,\n",
              "         0.        ,  0.        ,  0.        ,  1.        ,  1.        ,\n",
              "         0.        ],\n",
              "       [-0.92942091, -1.68601984, -0.23626638,  0.        ,  1.        ,\n",
              "         0.        ,  0.        ,  0.        ,  0.        ,  1.        ,\n",
              "         0.        ],\n",
              "       [ 0.8387457 ,  0.14686584, -0.23626638,  1.        ,  0.        ,\n",
              "         0.        ,  0.        ,  0.        ,  0.        ,  1.        ,\n",
              "         0.        ],\n",
              "       [-0.92942091,  1.5215301 , -0.23626638,  0.        ,  1.        ,\n",
              "         0.        ,  0.        ,  0.        ,  0.        ,  1.        ,\n",
              "         0.        ],\n",
              "       [-0.92942091, -0.99868771, -0.23626638,  0.        ,  1.        ,\n",
              "         0.        ,  0.        ,  0.        ,  0.        ,  1.        ,\n",
              "         0.        ],\n",
              "       [-0.04533761, -0.54046629, -0.23626638,  0.        ,  0.        ,\n",
              "         0.        ,  1.        ,  0.        ,  0.        ,  1.        ,\n",
              "         0.        ],\n",
              "       [ 0.8387457 , -0.08224487,  1.80450427,  0.        ,  1.        ,\n",
              "         0.        ,  0.        ,  0.        ,  0.        ,  1.        ,\n",
              "         0.        ],\n",
              "       [-0.04533761,  1.5215301 ,  2.85581036,  1.        ,  0.        ,\n",
              "         0.        ,  0.        ,  0.        ,  0.        ,  1.        ,\n",
              "         0.        ],\n",
              "       [ 0.8387457 ,  0.60508726, -0.23626638,  1.        ,  0.        ,\n",
              "         0.        ,  0.        ,  0.        ,  0.        ,  1.        ,\n",
              "         0.        ],\n",
              "       [-0.92942091, -0.99868771, -0.23626638,  0.        ,  0.        ,\n",
              "         0.        ,  0.        ,  0.        ,  1.        ,  1.        ,\n",
              "         0.        ],\n",
              "       [-0.04533761,  1.06330868,  1.80450427,  0.        ,  1.        ,\n",
              "         0.        ,  0.        ,  0.        ,  0.        ,  1.        ,\n",
              "         0.        ],\n",
              "       [-0.04533761, -0.31135558, -0.23626638,  0.        ,  0.        ,\n",
              "         1.        ,  0.        ,  0.        ,  0.        ,  1.        ,\n",
              "         0.        ],\n",
              "       [-0.92942091,  0.83419797, -0.23626638,  0.        ,  0.        ,\n",
              "         0.        ,  1.        ,  0.        ,  0.        ,  1.        ,\n",
              "         0.        ],\n",
              "       [-0.04533761,  1.75064081, -0.23626638,  0.        ,  1.        ,\n",
              "         0.        ,  0.        ,  0.        ,  0.        ,  1.        ,\n",
              "         0.        ],\n",
              "       [ 0.8387457 ,  0.14686584, -0.23626638,  0.        ,  0.        ,\n",
              "         0.        ,  0.        ,  0.        ,  1.        ,  1.        ,\n",
              "         0.        ],\n",
              "       [ 1.722829  ,  0.37597655, -0.23626638,  1.        ,  0.        ,\n",
              "         0.        ,  0.        ,  0.        ,  0.        ,  1.        ,\n",
              "         0.        ],\n",
              "       [-0.92942091, -0.08224487, -0.23626638,  0.        ,  1.        ,\n",
              "         0.        ,  0.        ,  0.        ,  0.        ,  1.        ,\n",
              "         0.        ],\n",
              "       [ 0.8387457 , -0.08224487, -0.23626638,  1.        ,  0.        ,\n",
              "         0.        ,  0.        ,  0.        ,  0.        ,  1.        ,\n",
              "         0.        ],\n",
              "       [ 3.49099561,  0.14686584, -0.23626638,  0.        ,  0.        ,\n",
              "         0.        ,  0.        ,  1.        ,  0.        ,  1.        ,\n",
              "         0.        ],\n",
              "       [-0.92942091,  1.75064081, -0.23626638,  0.        ,  0.        ,\n",
              "         0.        ,  1.        ,  0.        ,  0.        ,  1.        ,\n",
              "         0.        ],\n",
              "       [-0.04533761, -0.31135558, -0.23626638,  0.        ,  1.        ,\n",
              "         0.        ,  0.        ,  0.        ,  0.        ,  1.        ,\n",
              "         0.        ],\n",
              "       [ 1.722829  ,  0.83419797, -0.23626638,  0.        ,  0.        ,\n",
              "         0.        ,  0.        ,  0.        ,  1.        ,  1.        ,\n",
              "         0.        ],\n",
              "       [-0.04533761, -0.99868771, -0.23626638,  1.        ,  0.        ,\n",
              "         0.        ,  0.        ,  0.        ,  0.        ,  1.        ,\n",
              "         0.        ],\n",
              "       [-0.92942091,  1.06330868,  1.80450427,  0.        ,  1.        ,\n",
              "         0.        ,  0.        ,  0.        ,  0.        ,  1.        ,\n",
              "         0.        ],\n",
              "       [-0.92942091,  1.06330868, -0.23626638,  0.        ,  1.        ,\n",
              "         0.        ,  0.        ,  0.        ,  0.        ,  1.        ,\n",
              "         0.        ],\n",
              "       [ 0.8387457 , -1.91513055, -0.23626638,  0.        ,  0.        ,\n",
              "         0.        ,  0.        ,  1.        ,  0.        ,  0.        ,\n",
              "         1.        ],\n",
              "       [-0.92942091,  0.83419797, -0.23626638,  0.        ,  1.        ,\n",
              "         0.        ,  0.        ,  0.        ,  0.        ,  1.        ,\n",
              "         0.        ],\n",
              "       [-0.04533761, -0.99868771, -0.23626638,  1.        ,  0.        ,\n",
              "         0.        ,  0.        ,  0.        ,  0.        ,  1.        ,\n",
              "         0.        ],\n",
              "       [-0.92942091, -1.68601984, -3.32834312,  0.        ,  0.        ,\n",
              "         0.        ,  0.        ,  1.        ,  0.        ,  1.        ,\n",
              "         0.        ],\n",
              "       [-0.04533761,  0.14686584, -0.23626638,  1.        ,  0.        ,\n",
              "         0.        ,  0.        ,  0.        ,  0.        ,  1.        ,\n",
              "         0.        ],\n",
              "       [-0.92942091, -0.31135558, -0.23626638,  0.        ,  1.        ,\n",
              "         0.        ,  0.        ,  0.        ,  0.        ,  1.        ,\n",
              "         0.        ],\n",
              "       [ 1.722829  , -0.769577  , -0.23626638,  0.        ,  0.        ,\n",
              "         0.        ,  1.        ,  0.        ,  0.        ,  1.        ,\n",
              "         0.        ]])"
            ]
          },
          "metadata": {},
          "execution_count": 39
        }
      ]
    }
  ]
}